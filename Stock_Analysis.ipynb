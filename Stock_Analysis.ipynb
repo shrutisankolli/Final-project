{
 "cells": [
  {
   "cell_type": "code",
   "execution_count": 8,
   "metadata": {},
   "outputs": [],
   "source": [
    "import numpy as np\n",
    "import math\n",
    "import matplotlib.pyplot as plt\n",
    "from scipy.stats import norm\n",
    "from pandas import Series, DataFrame\n",
    "import sys\n",
    "from pandas_datareader import data"
   ]
  },
  {
   "cell_type": "code",
   "execution_count": 24,
   "metadata": {
    "collapsed": true
   },
   "outputs": [],
   "source": [
    "class UserInput:\n",
    "    def __init__(self):\n",
    "        self.ticker=input(\"Enter the name of the stock\")\n",
    "        self.noOfYears=input(\"Enter the no of years you wish to invest:\")\n",
    "        self.getbaseAmount=input(\"Enter the starting amount you wish to invest:\")\n",
    "        self.FinalAmount=input(\"Enter the final amount that you wish to see after \"+str(self.noOfYears)+\" :\")\n",
    "        \n",
    "    def getTicker(self)->str:\n",
    "        '''\n",
    "        This function returns the ticker in which the user wishes to invest.\n",
    "        '''\n",
    "        return self.ticker\n",
    "    \n",
    "    def getNoOfYears(self)->int:\n",
    "        '''\n",
    "        This function returns the no of years that the user has chosen to invest in the stock.\n",
    "        '''\n",
    "        return int(self.noOfYears)\n",
    "    \n",
    "    def getBaseAmount(self)->int:\n",
    "        '''\n",
    "        This function returns the starting amount that the user wants to start the investment with.\n",
    "        '''\n",
    "        return int(self.getbaseAmount)\n",
    "    \n",
    "    def getFinalAmount(self)->int:\n",
    "        '''\n",
    "        This function returns the final amount that the user wishes to receive at the end of the tenure.\n",
    "        '''\n",
    "        return int(self.FinalAmount)"
   ]
  },
  {
   "cell_type": "code",
   "execution_count": 25,
   "metadata": {
    "collapsed": true
   },
   "outputs": [],
   "source": [
    "class DataFetcher:\n",
    "    def __init__(self,ticker):\n",
    "        self.tickerName=ticker\n",
    "    \n",
    "    def fetchTickerData(self):\n",
    "        '''\n",
    "        This function makes the call to the Yahoo stocks API to fetch the ticker data. \n",
    "        '''\n",
    "        self.ticker_data = data.DataReader(self.tickerName, 'yahoo',start='1/1/2017')\n",
    "        \n",
    "    def getTickerData(self)->DataFrame:\n",
    "        '''\n",
    "        Returns the dataframe holding the ticker data\n",
    "        '''\n",
    "        return self.ticker_data"
   ]
  },
  {
   "cell_type": "code",
   "execution_count": 22,
   "metadata": {
    "collapsed": true
   },
   "outputs": [],
   "source": [
    "class StockAnalysis:\n",
    "    def __init__(self,ticker_data):\n",
    "        self.ticker_data=ticker_data\n",
    "        \n",
    "    def calcBaseMarketReturn(self):\n",
    "        '''\n",
    "        Calculate the base market rate\n",
    "        '''\n",
    "        self.trading_days = (self.ticker_data.index[-1] - self.ticker_data.index[0]).days\n",
    "        self.mu = ((((self.ticker_data['Adj Close'][-1]) / self.ticker_data['Adj Close'][1])) ** (365.0/self.trading_days)) - 1\n",
    "        \n",
    "    def calcBaseVolatility(self):\n",
    "        self.ticker_data['Returns'] = self.ticker_data['Adj Close'].pct_change()\n",
    "        self.vol = self.ticker_data['Returns'].std()*(252)**(1/2.0)\n",
    "            \n",
    "    def getBaseMarketReturn(self):\n",
    "        return self.mu\n",
    "    \n",
    "    def getBaseVolatility(self):\n",
    "        return self.vol\n",
    "    \n",
    "        "
   ]
  },
  {
   "cell_type": "code",
   "execution_count": 23,
   "metadata": {},
   "outputs": [
    {
     "name": "stdout",
     "output_type": "stream",
     "text": [
      "Enter the name of the stockGOOG\n",
      "Enter the no of years you wish to invest:10\n",
      "Enter the starting amount you wish to invest:100\n",
      "Enter the final amount that you wish to see after 10 :10000\n",
      "                  Open        High         Low       Close   Adj Close  \\\n",
      "Date                                                                     \n",
      "2017-01-03  778.809998  789.630005  775.799988  786.140015  786.140015   \n",
      "2017-01-04  788.359985  791.340027  783.159973  786.900024  786.900024   \n",
      "2017-01-05  786.080017  794.479980  785.020020  794.020020  794.020020   \n",
      "2017-01-06  795.260010  807.900024  792.203979  806.150024  806.150024   \n",
      "2017-01-09  806.400024  809.966003  802.830017  806.650024  806.650024   \n",
      "\n",
      "             Volume  \n",
      "Date                 \n",
      "2017-01-03  1657300  \n",
      "2017-01-04  1073000  \n",
      "2017-01-05  1335200  \n",
      "2017-01-06  1640200  \n",
      "2017-01-09  1272400  \n",
      "0.322193864887\n",
      "0.15664269381537593\n"
     ]
    }
   ],
   "source": [
    "u=UserInput()\n",
    "ticker=u.getTicker()\n",
    "#print(u.getNoOfYears())\n",
    "#print(u.getBaseAmount())\n",
    "#print(u.getFinalAmount())\n",
    "d=DataFetcher(ticker)\n",
    "d.fetchTickerData()\n",
    "ticker_data=d.getTickerData()\n",
    "print(ticker_data.head())\n",
    "s=StockAnalysis(ticker_data)\n",
    "s.calcBaseMarketReturn()\n",
    "s.calcBaseVolatility()\n",
    "print(s.getMarketReturn())\n",
    "print(s.getBaseVolatility())"
   ]
  },
  {
   "cell_type": "code",
   "execution_count": null,
   "metadata": {
    "collapsed": true
   },
   "outputs": [],
   "source": [
    "sim = DataFrame()\n",
    "iterations = 5000\n",
    "returns1 = DataFrame()\n",
    "\n",
    "for x in range(iterations):\n",
    "    expected_return = # get expected return from prev step\n",
    "    volatility = # get volatility from prev step\n",
    "    time_horizon = # Get no of years as input\n",
    "    pv = # Get as input\n",
    "    annual_investment = 10000\n",
    "    stream = []\n",
    "    returns_list=[expected_return]\n",
    "    for i in range(time_horizon):\n",
    "        returns=np.random.normal(expected_return,volatility)\n",
    "        if(returns>returns_list[-1]):\n",
    "            a=np.random.normal(annual_investment,100)\n",
    "        else:\n",
    "            a=0\n",
    "        \n",
    "        end = round(pv * (1 + returns) + a,2)\n",
    "        \n",
    "        stream.append(end)\n",
    "        returns_list.append(returns)\n",
    "        pv = end\n",
    "\n",
    "    \n",
    "    sim[x] = stream\n",
    "    returns1[x] = returns_list"
   ]
  },
  {
   "cell_type": "code",
   "execution_count": null,
   "metadata": {},
   "outputs": [],
   "source": [
    "# Data Frame that holds all the returns for each year for each iteration\n",
    "returns1.head()"
   ]
  },
  {
   "cell_type": "code",
   "execution_count": null,
   "metadata": {},
   "outputs": [],
   "source": [
    "#This ending_values will return the total amount earned in each of the 5000 iterations\n",
    "ending_values = sim.loc[30]\n",
    "plt.hist(ending_values, bins=100)\n",
    "plt.show()"
   ]
  },
  {
   "cell_type": "code",
   "execution_count": null,
   "metadata": {},
   "outputs": [],
   "source": [
    "plt.plot(sim[1:29])\n",
    "plt.show()"
   ]
  },
  {
   "cell_type": "code",
   "execution_count": null,
   "metadata": {},
   "outputs": [],
   "source": [
    "# we are calculating the probability of reaching the amt the user wished to earn at the end of the tenure\n",
    "len(ending_values[ending_values> 'some_user_input']) / len(ending_values)"
   ]
  }
 ],
 "metadata": {
  "kernelspec": {
   "display_name": "Python 3",
   "language": "python",
   "name": "python3"
  },
  "language_info": {
   "codemirror_mode": {
    "name": "ipython",
    "version": 3
   },
   "file_extension": ".py",
   "mimetype": "text/x-python",
   "name": "python",
   "nbconvert_exporter": "python",
   "pygments_lexer": "ipython3",
   "version": "3.6.1"
  }
 },
 "nbformat": 4,
 "nbformat_minor": 2
}
